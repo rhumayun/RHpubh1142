{
 "cells": [
  {
   "cell_type": "markdown",
   "id": "7a21fa14",
   "metadata": {},
   "source": [
    "# Exploratory Data Analysis"
   ]
  },
  {
   "cell_type": "markdown",
   "id": "6b806a31",
   "metadata": {},
   "source": [
    "> 1. Import Pandas"
   ]
  },
  {
   "cell_type": "code",
   "execution_count": 2,
   "id": "df73b685",
   "metadata": {},
   "outputs": [],
   "source": [
    "import pandas as pd\n",
    "from scipy import stats"
   ]
  },
  {
   "cell_type": "markdown",
   "id": "80dc623c",
   "metadata": {},
   "source": [
    "> 2. Read a CSV file"
   ]
  },
  {
   "cell_type": "code",
   "execution_count": null,
   "id": "3909e9aa",
   "metadata": {},
   "outputs": [],
   "source": [
    "# Import the dataset\n",
    "df = pd.read_csv('data.csv')"
   ]
  },
  {
   "cell_type": "markdown",
   "id": "49d95fcc",
   "metadata": {},
   "source": [
    "> 3. Display Rows"
   ]
  },
  {
   "cell_type": "code",
   "execution_count": null,
   "id": "2bc42039",
   "metadata": {},
   "outputs": [],
   "source": [
    "# Display the first 5 rows of the dataset\n",
    "df.head()"
   ]
  },
  {
   "cell_type": "markdown",
   "id": "07517d16",
   "metadata": {},
   "source": [
    "> 4. Calculating Mean"
   ]
  },
  {
   "cell_type": "code",
   "execution_count": null,
   "id": "df91881d",
   "metadata": {},
   "outputs": [],
   "source": [
    "# Calculate the mean of the 'age' column in dataframe df\n",
    "mean_age = df['age'].mean()"
   ]
  },
  {
   "cell_type": "markdown",
   "id": "2edd186a",
   "metadata": {},
   "source": [
    "> 5. Calculating Median"
   ]
  },
  {
   "cell_type": "code",
   "execution_count": null,
   "id": "9f75f3b3",
   "metadata": {},
   "outputs": [],
   "source": [
    "# Calculate the median of the 'salary' column in dataframe df\n",
    "median_salary = df['salary'].median()"
   ]
  },
  {
   "cell_type": "markdown",
   "id": "92c51480",
   "metadata": {},
   "source": [
    "> 6. Calculating Standard Deviation"
   ]
  },
  {
   "cell_type": "code",
   "execution_count": null,
   "id": "1bccf4ce",
   "metadata": {},
   "outputs": [],
   "source": [
    "# Calculate the standard deviation of the 'score' column in dataframe df\n",
    "std_score = df['score'].std()"
   ]
  },
  {
   "cell_type": "markdown",
   "id": "8afcc659",
   "metadata": {},
   "source": [
    "> 7. Finding Missing Values"
   ]
  },
  {
   "cell_type": "code",
   "execution_count": null,
   "id": "95042b69",
   "metadata": {},
   "outputs": [],
   "source": [
    "# Find hte number of missing values in each column in dataframe df\n",
    "missing_values = df.isnull().sum()"
   ]
  },
  {
   "cell_type": "markdown",
   "id": "bdcd5762",
   "metadata": {},
   "source": [
    "> 8. Correlation"
   ]
  },
  {
   "cell_type": "code",
   "execution_count": null,
   "id": "14f8431b",
   "metadata": {},
   "outputs": [],
   "source": [
    "# Calculate the correlation between 'age' and 'salary' columns in dataframe df\n",
    "correlation = df['age'].corr(df['salary'])"
   ]
  },
  {
   "cell_type": "markdown",
   "id": "7de7697b",
   "metadata": {},
   "source": [
    "> 9. Selecting Subsets"
   ]
  },
  {
   "cell_type": "code",
   "execution_count": null,
   "id": "01e0bc70",
   "metadata": {},
   "outputs": [],
   "source": [
    "# Select a subset of the dataframe where 'age' is greater than 30\n",
    "subset_df = df[df['age'] > 30]"
   ]
  },
  {
   "cell_type": "markdown",
   "id": "a2232b45",
   "metadata": {},
   "source": [
    "> 10. Calculating Range"
   ]
  },
  {
   "cell_type": "code",
   "execution_count": null,
   "id": "24f5d266",
   "metadata": {},
   "outputs": [],
   "source": [
    "# Calculate the range of the 'score' column in dataframe df\n",
    "score_range = df['score'].max() - df['score'].min()"
   ]
  },
  {
   "cell_type": "markdown",
   "id": "55479bbd",
   "metadata": {},
   "source": [
    "> 11. Grouping by a Column + Finding Mean"
   ]
  },
  {
   "cell_type": "code",
   "execution_count": null,
   "id": "8a604278",
   "metadata": {},
   "outputs": [],
   "source": [
    "# Group the dataframe by 'department' and calculate the mean of 'salary' for each group\n",
    "grouped_mean_salary = df.groupby('department')['salary'].mean()"
   ]
  },
  {
   "cell_type": "markdown",
   "id": "4aba530d",
   "metadata": {},
   "source": [
    "> 12. Grouping by a Column + # of Rows"
   ]
  },
  {
   "cell_type": "code",
   "execution_count": null,
   "id": "d52387e6",
   "metadata": {},
   "outputs": [],
   "source": [
    "# Group dataframe df by 'department' and 'job_title' and calculate the count of each group\n",
    "grouped_count = df.groupby(['department', 'job_title']).size()"
   ]
  },
  {
   "cell_type": "markdown",
   "id": "21770cc8",
   "metadata": {},
   "source": [
    "> 13. Groupby Method to Find Maximum"
   ]
  },
  {
   "cell_type": "code",
   "execution_count": null,
   "id": "0e7c8084",
   "metadata": {},
   "outputs": [],
   "source": [
    "# Use the groupby method to calculate the maximum 'age' for each 'department' in dataframe df\n",
    "grouped_max_age = df.groupby('department')['age'].max()"
   ]
  },
  {
   "cell_type": "markdown",
   "id": "d450ef5a",
   "metadata": {},
   "source": [
    "> 14. Cross-Tabulation Table with Frequency"
   ]
  },
  {
   "cell_type": "code",
   "execution_count": null,
   "id": "fc0d5e00",
   "metadata": {},
   "outputs": [],
   "source": [
    "# Create a cross-tabulation that shows the frequency count of 'department' and 'job_title' in dataframe df\n",
    "crosstab = pd.crosstab(df['department'], df['job_title'])"
   ]
  },
  {
   "cell_type": "markdown",
   "id": "11608f00",
   "metadata": {},
   "source": [
    "> 15. Cross-Tabulation Table with Mean"
   ]
  },
  {
   "cell_type": "code",
   "execution_count": null,
   "id": "18b7e619",
   "metadata": {},
   "outputs": [],
   "source": [
    "# Create a cross-tabulation table that shows the mean salary for each combination of 'department' and 'job_title' in dataframe df\n",
    "crosstab_mean_salary = pd.crosstab(df['department'], df['job_title'], values=df['salary'], aggfunc='mean')"
   ]
  }
 ],
 "metadata": {
  "kernelspec": {
   "display_name": ".venv",
   "language": "python",
   "name": "python3"
  },
  "language_info": {
   "codemirror_mode": {
    "name": "ipython",
    "version": 3
   },
   "file_extension": ".py",
   "mimetype": "text/x-python",
   "name": "python",
   "nbconvert_exporter": "python",
   "pygments_lexer": "ipython3",
   "version": "3.13.1"
  }
 },
 "nbformat": 4,
 "nbformat_minor": 5
}
