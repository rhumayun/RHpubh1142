{
 "cells": [
  {
   "cell_type": "markdown",
   "id": "712667da",
   "metadata": {},
   "source": [
    "# Week 12 Assignment"
   ]
  },
  {
   "cell_type": "markdown",
   "id": "167f6231",
   "metadata": {},
   "source": [
    "### Importing Data"
   ]
  },
  {
   "cell_type": "code",
   "execution_count": 1,
   "id": "bf6e9f62",
   "metadata": {},
   "outputs": [],
   "source": [
    "import numpy as np\n",
    "from scipy import stats\n",
    "from scipy import special\n",
    "from pandas import DataFrame"
   ]
  },
  {
   "cell_type": "code",
   "execution_count": 2,
   "id": "bc296208",
   "metadata": {},
   "outputs": [],
   "source": [
    "import plotly.graph_objects as go\n",
    "import plotly.express as px\n",
    "import plotly.figure_factory as ff\n",
    "import plotly.io as pio\n",
    "pio.templates.default = 'plotly_white'"
   ]
  },
  {
   "cell_type": "code",
   "execution_count": 5,
   "id": "42f99e51",
   "metadata": {},
   "outputs": [
    {
     "name": "stdout",
     "output_type": "stream",
     "text": [
      "Collecting patsy\n",
      "  Downloading patsy-1.0.1-py2.py3-none-any.whl.metadata (3.3 kB)\n",
      "Requirement already satisfied: numpy>=1.4 in ./.venv/lib/python3.13/site-packages (from patsy) (2.2.2)\n",
      "Downloading patsy-1.0.1-py2.py3-none-any.whl (232 kB)\n",
      "Installing collected packages: patsy\n",
      "Successfully installed patsy-1.0.1\n",
      "Note: you may need to restart the kernel to use updated packages.\n"
     ]
    }
   ],
   "source": [
    "pip install patsy"
   ]
  },
  {
   "cell_type": "code",
   "execution_count": 7,
   "id": "2fca3a05",
   "metadata": {},
   "outputs": [
    {
     "name": "stdout",
     "output_type": "stream",
     "text": [
      "Collecting statsmodels\n",
      "  Downloading statsmodels-0.14.4-cp313-cp313-macosx_11_0_arm64.whl.metadata (9.2 kB)\n",
      "Requirement already satisfied: numpy<3,>=1.22.3 in ./.venv/lib/python3.13/site-packages (from statsmodels) (2.2.2)\n",
      "Requirement already satisfied: scipy!=1.9.2,>=1.8 in ./.venv/lib/python3.13/site-packages (from statsmodels) (1.15.1)\n",
      "Requirement already satisfied: pandas!=2.1.0,>=1.4 in ./.venv/lib/python3.13/site-packages (from statsmodels) (2.2.3)\n",
      "Requirement already satisfied: patsy>=0.5.6 in ./.venv/lib/python3.13/site-packages (from statsmodels) (1.0.1)\n",
      "Requirement already satisfied: packaging>=21.3 in ./.venv/lib/python3.13/site-packages (from statsmodels) (24.2)\n",
      "Requirement already satisfied: python-dateutil>=2.8.2 in ./.venv/lib/python3.13/site-packages (from pandas!=2.1.0,>=1.4->statsmodels) (2.9.0.post0)\n",
      "Requirement already satisfied: pytz>=2020.1 in ./.venv/lib/python3.13/site-packages (from pandas!=2.1.0,>=1.4->statsmodels) (2024.2)\n",
      "Requirement already satisfied: tzdata>=2022.7 in ./.venv/lib/python3.13/site-packages (from pandas!=2.1.0,>=1.4->statsmodels) (2025.1)\n",
      "Requirement already satisfied: six>=1.5 in ./.venv/lib/python3.13/site-packages (from python-dateutil>=2.8.2->pandas!=2.1.0,>=1.4->statsmodels) (1.17.0)\n",
      "Downloading statsmodels-0.14.4-cp313-cp313-macosx_11_0_arm64.whl (9.9 MB)\n",
      "\u001b[2K   \u001b[90m━━━━━━━━━━━━━━━━━━━━━━━━━━━━━━━━━━━━━━━━\u001b[0m \u001b[32m9.9/9.9 MB\u001b[0m \u001b[31m35.0 MB/s\u001b[0m eta \u001b[36m0:00:00\u001b[0ma \u001b[36m0:00:01\u001b[0m\n",
      "\u001b[?25hInstalling collected packages: statsmodels\n",
      "Successfully installed statsmodels-0.14.4\n",
      "Note: you may need to restart the kernel to use updated packages.\n"
     ]
    }
   ],
   "source": [
    "pip install statsmodels"
   ]
  },
  {
   "cell_type": "code",
   "execution_count": 8,
   "id": "ebcf88ed",
   "metadata": {},
   "outputs": [],
   "source": [
    "from patsy import dmatrices\n",
    "import statsmodels.api as sm"
   ]
  },
  {
   "cell_type": "code",
   "execution_count": 9,
   "id": "7b58a496",
   "metadata": {},
   "outputs": [],
   "source": [
    "# Seed the pseudo-random number generator\n",
    "np.random.seed(12)\n",
    "\n",
    "# Sample size\n",
    "n=100\n",
    "\n",
    "# Create data\n",
    "wcc = np.round(np.random.normal(15, 5, n), 0)\n",
    "crp = (wcc * 2) + np.round(np.random.normal(0, 10, n), 0)\n",
    "\n",
    "lipase = wcc + crp + np.round(np.random.normal(2, 10, n), 0)\n",
    "\n",
    "# Pandas dataframe obejct\n",
    "df = DataFrame(\n",
    "    {'WCC':wcc,\n",
    "     'CRP':crp,\n",
    "     'Lipase':lipase}\n",
    ")"
   ]
  },
  {
   "cell_type": "code",
   "execution_count": 11,
   "id": "cbf325e4",
   "metadata": {},
   "outputs": [
    {
     "ename": "ValueError",
     "evalue": "Mime type rendering requires nbformat>=4.2.0 but it is not installed",
     "output_type": "error",
     "traceback": [
      "\u001b[0;31m---------------------------------------------------------------------------\u001b[0m",
      "\u001b[0;31mValueError\u001b[0m                                Traceback (most recent call last)",
      "File \u001b[0;32m~/Downloads/PUBH 1142/.venv/lib/python3.13/site-packages/IPython/core/formatters.py:984\u001b[0m, in \u001b[0;36mIPythonDisplayFormatter.__call__\u001b[0;34m(self, obj)\u001b[0m\n\u001b[1;32m    982\u001b[0m method \u001b[38;5;241m=\u001b[39m get_real_method(obj, \u001b[38;5;28mself\u001b[39m\u001b[38;5;241m.\u001b[39mprint_method)\n\u001b[1;32m    983\u001b[0m \u001b[38;5;28;01mif\u001b[39;00m method \u001b[38;5;129;01mis\u001b[39;00m \u001b[38;5;129;01mnot\u001b[39;00m \u001b[38;5;28;01mNone\u001b[39;00m:\n\u001b[0;32m--> 984\u001b[0m     \u001b[43mmethod\u001b[49m\u001b[43m(\u001b[49m\u001b[43m)\u001b[49m\n\u001b[1;32m    985\u001b[0m     \u001b[38;5;28;01mreturn\u001b[39;00m \u001b[38;5;28;01mTrue\u001b[39;00m\n",
      "File \u001b[0;32m~/Downloads/PUBH 1142/.venv/lib/python3.13/site-packages/plotly/basedatatypes.py:833\u001b[0m, in \u001b[0;36mBaseFigure._ipython_display_\u001b[0;34m(self)\u001b[0m\n\u001b[1;32m    830\u001b[0m \u001b[38;5;28;01mimport\u001b[39;00m\u001b[38;5;250m \u001b[39m\u001b[38;5;21;01mplotly\u001b[39;00m\u001b[38;5;21;01m.\u001b[39;00m\u001b[38;5;21;01mio\u001b[39;00m\u001b[38;5;250m \u001b[39m\u001b[38;5;28;01mas\u001b[39;00m\u001b[38;5;250m \u001b[39m\u001b[38;5;21;01mpio\u001b[39;00m\n\u001b[1;32m    832\u001b[0m \u001b[38;5;28;01mif\u001b[39;00m pio\u001b[38;5;241m.\u001b[39mrenderers\u001b[38;5;241m.\u001b[39mrender_on_display \u001b[38;5;129;01mand\u001b[39;00m pio\u001b[38;5;241m.\u001b[39mrenderers\u001b[38;5;241m.\u001b[39mdefault:\n\u001b[0;32m--> 833\u001b[0m     \u001b[43mpio\u001b[49m\u001b[38;5;241;43m.\u001b[39;49m\u001b[43mshow\u001b[49m\u001b[43m(\u001b[49m\u001b[38;5;28;43mself\u001b[39;49m\u001b[43m)\u001b[49m\n\u001b[1;32m    834\u001b[0m \u001b[38;5;28;01melse\u001b[39;00m:\n\u001b[1;32m    835\u001b[0m     \u001b[38;5;28mprint\u001b[39m(\u001b[38;5;28mrepr\u001b[39m(\u001b[38;5;28mself\u001b[39m))\n",
      "File \u001b[0;32m~/Downloads/PUBH 1142/.venv/lib/python3.13/site-packages/plotly/io/_renderers.py:425\u001b[0m, in \u001b[0;36mshow\u001b[0;34m(fig, renderer, validate, **kwargs)\u001b[0m\n\u001b[1;32m    420\u001b[0m     \u001b[38;5;28;01mraise\u001b[39;00m \u001b[38;5;167;01mValueError\u001b[39;00m(\n\u001b[1;32m    421\u001b[0m         \u001b[38;5;124m\"\u001b[39m\u001b[38;5;124mMime type rendering requires ipython but it is not installed\u001b[39m\u001b[38;5;124m\"\u001b[39m\n\u001b[1;32m    422\u001b[0m     )\n\u001b[1;32m    424\u001b[0m \u001b[38;5;28;01mif\u001b[39;00m \u001b[38;5;129;01mnot\u001b[39;00m nbformat \u001b[38;5;129;01mor\u001b[39;00m Version(nbformat\u001b[38;5;241m.\u001b[39m__version__) \u001b[38;5;241m<\u001b[39m Version(\u001b[38;5;124m\"\u001b[39m\u001b[38;5;124m4.2.0\u001b[39m\u001b[38;5;124m\"\u001b[39m):\n\u001b[0;32m--> 425\u001b[0m     \u001b[38;5;28;01mraise\u001b[39;00m \u001b[38;5;167;01mValueError\u001b[39;00m(\n\u001b[1;32m    426\u001b[0m         \u001b[38;5;124m\"\u001b[39m\u001b[38;5;124mMime type rendering requires nbformat>=4.2.0 but it is not installed\u001b[39m\u001b[38;5;124m\"\u001b[39m\n\u001b[1;32m    427\u001b[0m     )\n\u001b[1;32m    429\u001b[0m display_jupyter_version_warnings()\n\u001b[1;32m    431\u001b[0m ipython_display\u001b[38;5;241m.\u001b[39mdisplay(bundle, raw\u001b[38;5;241m=\u001b[39m\u001b[38;5;28;01mTrue\u001b[39;00m)\n",
      "\u001b[0;31mValueError\u001b[0m: Mime type rendering requires nbformat>=4.2.0 but it is not installed"
     ]
    },
    {
     "data": {
      "application/vnd.plotly.v1+json": {
       "config": {
        "plotlyServerURL": "https://plot.ly"
       },
       "data": [
        {
         "dimensions": [
          {
           "axis": {
            "matches": true
           },
           "label": "WCC",
           "values": {
            "bdata": "AAAAAAAAMUAAAAAAAAAoQAAAAAAAADBAAAAAAAAAGEAAAAAAAAAzQAAAAAAAABxAAAAAAAAALkAAAAAAAAAsQAAAAAAAACZAAAAAAAAAPUAAAAAAAAAoQAAAAAAAADFAAAAAAAAANEAAAAAAAAAiQAAAAAAAADZAAAAAAAAALEAAAAAAAAA0QAAAAAAAACRAAAAAAAAAJEAAAAAAAAA1QAAAAAAAADJAAAAAAAAAMEAAAAAAAAAyQAAAAAAAADJAAAAAAAAAIkAAAAAAAAAQQAAAAAAAABxAAAAAAAAAGEAAAAAAAAAQQAAAAAAAAChAAAAAAAAAKEAAAAAAAAAuQAAAAAAAADBAAAAAAAAAKkAAAAAAAAAsQAAAAAAAAC5AAAAAAAAAJEAAAAAAAAAmQAAAAAAAAC5AAAAAAAAAKEAAAAAAAAAoQAAAAAAAACxAAAAAAAAANkAAAAAAAAAxQAAAAAAAACpAAAAAAAAAKEAAAAAAAAAsQAAAAAAAADpAAAAAAAAA8L8AAAAAAAAyQAAAAAAAADBAAAAAAAAAM0AAAAAAAAAiQAAAAAAAADpAAAAAAAAANEAAAAAAAAAuQAAAAAAAADBAAAAAAAAAJkAAAAAAAAAuQAAAAAAAACxAAAAAAAAANEAAAAAAAAAxQAAAAAAAAC5AAAAAAAAAMkAAAAAAAAAyQAAAAAAAADBAAAAAAAAAHEAAAAAAAAA0QAAAAAAAACJAAAAAAAAAJEAAAAAAAAAsQAAAAAAAADJAAAAAAAAANkAAAAAAAAAcQAAAAAAAADZAAAAAAAAAN0AAAAAAAAAqQAAAAAAAACxAAAAAAAAAKEAAAAAAAAAoQAAAAAAAACBAAAAAAAAAHEAAAAAAAAAsQAAAAAAAADBAAAAAAAAAOEAAAAAAAAAkQAAAAAAAABRAAAAAAAAAMEAAAAAAAAAqQAAAAAAAADFAAAAAAAAAKkAAAAAAAAAiQAAAAAAAAChAAAAAAAAAM0AAAAAAAAAwQAAAAAAAACRAAAAAAAAAM0AAAAAAAAAgQAAAAAAAAChAAAAAAAAAMEA=",
            "dtype": "f8"
           }
          },
          {
           "axis": {
            "matches": true
           },
           "label": "CRP",
           "values": {
            "bdata": "AAAAAAAANEAAAAAAAAAoQAAAAAAAAEBAAAAAAAAAJkAAAAAAAIBBQAAAAAAAACBAAAAAAAAAM0AAAAAAAAA0QAAAAAAAAEpAAAAAAAAASkAAAAAAAIBDQAAAAAAAADxAAAAAAAAAS0AAAAAAAAA+QAAAAAAAgEhAAAAAAAAANkAAAAAAAAA6QAAAAAAAAD5AAAAAAAAAHEAAAAAAAAA9QAAAAAAAgElAAAAAAACAR0AAAAAAAABCQAAAAAAAAEFAAAAAAAAAJkAAAAAAAAAoQAAAAAAAACJAAAAAAAAACMAAAAAAAAAAAAAAAAAAADpAAAAAAAAAIEAAAAAAAAA0QAAAAAAAgEBAAAAAAACARUAAAAAAAAA+QAAAAAAAAD5AAAAAAACAQ0AAAAAAAAAmQAAAAAAAADdAAAAAAAAAQEAAAAAAAIBBQAAAAAAAgEBAAAAAAAAAMkAAAAAAAIBEQAAAAAAAgEBAAAAAAAAAOEAAAAAAAIBBQAAAAAAAgFBAAAAAAAAA8L8AAAAAAAA7QAAAAAAAACxAAAAAAACAQ0AAAAAAAAAmQAAAAAAAAEdAAAAAAAAAPUAAAAAAAIBAQAAAAAAAgENAAAAAAAAAOkAAAAAAAAAzQAAAAAAAgEJAAAAAAACARUAAAAAAAAAiQAAAAAAAAEJAAAAAAAAAMEAAAAAAAAA5QAAAAAAAgEVAAAAAAAAANUAAAAAAAABBQAAAAAAAACJAAAAAAAAAN0AAAAAAAAAkQAAAAAAAAERAAAAAAACAREAAAAAAAAA1QAAAAAAAgEVAAAAAAACAQUAAAAAAAAA8QAAAAAAAADlAAAAAAAAAJEAAAAAAAAAoQAAAAAAAABhAAAAAAAAALkAAAAAAAABCQAAAAAAAAEBAAAAAAAAAQkAAAAAAAAAwQAAAAAAAADBAAAAAAACARUAAAAAAAAAxQAAAAAAAgEJAAAAAAAAANkAAAAAAAAAQwAAAAAAAACZAAAAAAAAAQEAAAAAAAAA7QAAAAAAAADBAAAAAAAAAQEAAAAAAAAA0QAAAAAAAACxAAAAAAAAAMEA=",
            "dtype": "f8"
           }
          },
          {
           "axis": {
            "matches": true
           },
           "label": "Lipase",
           "values": {
            "bdata": "AAAAAAAARkAAAAAAAAA0QAAAAAAAAE1AAAAAAAAAJkAAAAAAAEBRQAAAAAAAABRAAAAAAAAAOEAAAAAAAIBFQAAAAAAAwFRAAAAAAADAUkAAAAAAAEBRQAAAAAAAAE9AAAAAAAAAVUAAAAAAAIBDQAAAAAAAgElAAAAAAAAANkAAAAAAAABEQAAAAAAAgEdAAAAAAAAAMUAAAAAAAIBGQAAAAAAAAFJAAAAAAAAASEAAAAAAAABOQAAAAAAAAEZAAAAAAACAQUAAAAAAAAA0QAAAAAAAACRAAAAAAAAAAAAAAAAAAAAkwAAAAAAAAEVAAAAAAAAAKEAAAAAAAABCQAAAAAAAAE9AAAAAAACATkAAAAAAAIBJQAAAAAAAQFJAAAAAAAAATUAAAAAAAIBBQAAAAAAAgEJAAAAAAAAAQUAAAAAAAIBJQAAAAAAAgEJAAAAAAAAAKEAAAAAAAIBQQAAAAAAAgElAAAAAAAAAO0AAAAAAAABQQAAAAAAAQFdAAAAAAAAAFMAAAAAAAIBCQAAAAAAAAEZAAAAAAAAATEAAAAAAAAAxQAAAAAAAQFFAAAAAAACARUAAAAAAAIBAQAAAAAAAAElAAAAAAAAAPkAAAAAAAIBFQAAAAAAAAERAAAAAAAAAUkAAAAAAAAA3QAAAAAAAgEZAAAAAAAAAQUAAAAAAAIBGQAAAAAAAAE9AAAAAAAAAQkAAAAAAAABNQAAAAAAAABBAAAAAAAAAPEAAAAAAAABFQAAAAAAAgE1AAAAAAAAARUAAAAAAAABAQAAAAAAAAFVAAAAAAAAAUkAAAAAAAABGQAAAAAAAgEVAAAAAAAAAPkAAAAAAAAA4QAAAAAAAACZAAAAAAAAAREAAAAAAAABIQAAAAAAAAE5AAAAAAAAAR0AAAAAAAAA0QAAAAAAAACZAAAAAAABAUEAAAAAAAAA6QAAAAAAAgEhAAAAAAAAAPEAAAAAAAAAgQAAAAAAAgEFAAAAAAACAR0AAAAAAAIBJQAAAAAAAADxAAAAAAACAR0AAAAAAAIBAQAAAAAAAgERAAAAAAAAAIEA=",
            "dtype": "f8"
           }
          }
         ],
         "hovertemplate": "%{xaxis.title.text}=%{x}<br>%{yaxis.title.text}=%{y}<extra></extra>",
         "legendgroup": "",
         "marker": {
          "color": "#636efa",
          "symbol": "circle"
         },
         "name": "",
         "showlegend": false,
         "type": "splom"
        }
       ],
       "layout": {
        "dragmode": "select",
        "legend": {
         "tracegroupgap": 0
        },
        "template": {
         "data": {
          "bar": [
           {
            "error_x": {
             "color": "#2a3f5f"
            },
            "error_y": {
             "color": "#2a3f5f"
            },
            "marker": {
             "line": {
              "color": "white",
              "width": 0.5
             },
             "pattern": {
              "fillmode": "overlay",
              "size": 10,
              "solidity": 0.2
             }
            },
            "type": "bar"
           }
          ],
          "barpolar": [
           {
            "marker": {
             "line": {
              "color": "white",
              "width": 0.5
             },
             "pattern": {
              "fillmode": "overlay",
              "size": 10,
              "solidity": 0.2
             }
            },
            "type": "barpolar"
           }
          ],
          "carpet": [
           {
            "aaxis": {
             "endlinecolor": "#2a3f5f",
             "gridcolor": "#C8D4E3",
             "linecolor": "#C8D4E3",
             "minorgridcolor": "#C8D4E3",
             "startlinecolor": "#2a3f5f"
            },
            "baxis": {
             "endlinecolor": "#2a3f5f",
             "gridcolor": "#C8D4E3",
             "linecolor": "#C8D4E3",
             "minorgridcolor": "#C8D4E3",
             "startlinecolor": "#2a3f5f"
            },
            "type": "carpet"
           }
          ],
          "choropleth": [
           {
            "colorbar": {
             "outlinewidth": 0,
             "ticks": ""
            },
            "type": "choropleth"
           }
          ],
          "contour": [
           {
            "colorbar": {
             "outlinewidth": 0,
             "ticks": ""
            },
            "colorscale": [
             [
              0,
              "#0d0887"
             ],
             [
              0.1111111111111111,
              "#46039f"
             ],
             [
              0.2222222222222222,
              "#7201a8"
             ],
             [
              0.3333333333333333,
              "#9c179e"
             ],
             [
              0.4444444444444444,
              "#bd3786"
             ],
             [
              0.5555555555555556,
              "#d8576b"
             ],
             [
              0.6666666666666666,
              "#ed7953"
             ],
             [
              0.7777777777777778,
              "#fb9f3a"
             ],
             [
              0.8888888888888888,
              "#fdca26"
             ],
             [
              1,
              "#f0f921"
             ]
            ],
            "type": "contour"
           }
          ],
          "contourcarpet": [
           {
            "colorbar": {
             "outlinewidth": 0,
             "ticks": ""
            },
            "type": "contourcarpet"
           }
          ],
          "heatmap": [
           {
            "colorbar": {
             "outlinewidth": 0,
             "ticks": ""
            },
            "colorscale": [
             [
              0,
              "#0d0887"
             ],
             [
              0.1111111111111111,
              "#46039f"
             ],
             [
              0.2222222222222222,
              "#7201a8"
             ],
             [
              0.3333333333333333,
              "#9c179e"
             ],
             [
              0.4444444444444444,
              "#bd3786"
             ],
             [
              0.5555555555555556,
              "#d8576b"
             ],
             [
              0.6666666666666666,
              "#ed7953"
             ],
             [
              0.7777777777777778,
              "#fb9f3a"
             ],
             [
              0.8888888888888888,
              "#fdca26"
             ],
             [
              1,
              "#f0f921"
             ]
            ],
            "type": "heatmap"
           }
          ],
          "histogram": [
           {
            "marker": {
             "pattern": {
              "fillmode": "overlay",
              "size": 10,
              "solidity": 0.2
             }
            },
            "type": "histogram"
           }
          ],
          "histogram2d": [
           {
            "colorbar": {
             "outlinewidth": 0,
             "ticks": ""
            },
            "colorscale": [
             [
              0,
              "#0d0887"
             ],
             [
              0.1111111111111111,
              "#46039f"
             ],
             [
              0.2222222222222222,
              "#7201a8"
             ],
             [
              0.3333333333333333,
              "#9c179e"
             ],
             [
              0.4444444444444444,
              "#bd3786"
             ],
             [
              0.5555555555555556,
              "#d8576b"
             ],
             [
              0.6666666666666666,
              "#ed7953"
             ],
             [
              0.7777777777777778,
              "#fb9f3a"
             ],
             [
              0.8888888888888888,
              "#fdca26"
             ],
             [
              1,
              "#f0f921"
             ]
            ],
            "type": "histogram2d"
           }
          ],
          "histogram2dcontour": [
           {
            "colorbar": {
             "outlinewidth": 0,
             "ticks": ""
            },
            "colorscale": [
             [
              0,
              "#0d0887"
             ],
             [
              0.1111111111111111,
              "#46039f"
             ],
             [
              0.2222222222222222,
              "#7201a8"
             ],
             [
              0.3333333333333333,
              "#9c179e"
             ],
             [
              0.4444444444444444,
              "#bd3786"
             ],
             [
              0.5555555555555556,
              "#d8576b"
             ],
             [
              0.6666666666666666,
              "#ed7953"
             ],
             [
              0.7777777777777778,
              "#fb9f3a"
             ],
             [
              0.8888888888888888,
              "#fdca26"
             ],
             [
              1,
              "#f0f921"
             ]
            ],
            "type": "histogram2dcontour"
           }
          ],
          "mesh3d": [
           {
            "colorbar": {
             "outlinewidth": 0,
             "ticks": ""
            },
            "type": "mesh3d"
           }
          ],
          "parcoords": [
           {
            "line": {
             "colorbar": {
              "outlinewidth": 0,
              "ticks": ""
             }
            },
            "type": "parcoords"
           }
          ],
          "pie": [
           {
            "automargin": true,
            "type": "pie"
           }
          ],
          "scatter": [
           {
            "fillpattern": {
             "fillmode": "overlay",
             "size": 10,
             "solidity": 0.2
            },
            "type": "scatter"
           }
          ],
          "scatter3d": [
           {
            "line": {
             "colorbar": {
              "outlinewidth": 0,
              "ticks": ""
             }
            },
            "marker": {
             "colorbar": {
              "outlinewidth": 0,
              "ticks": ""
             }
            },
            "type": "scatter3d"
           }
          ],
          "scattercarpet": [
           {
            "marker": {
             "colorbar": {
              "outlinewidth": 0,
              "ticks": ""
             }
            },
            "type": "scattercarpet"
           }
          ],
          "scattergeo": [
           {
            "marker": {
             "colorbar": {
              "outlinewidth": 0,
              "ticks": ""
             }
            },
            "type": "scattergeo"
           }
          ],
          "scattergl": [
           {
            "marker": {
             "colorbar": {
              "outlinewidth": 0,
              "ticks": ""
             }
            },
            "type": "scattergl"
           }
          ],
          "scattermap": [
           {
            "marker": {
             "colorbar": {
              "outlinewidth": 0,
              "ticks": ""
             }
            },
            "type": "scattermap"
           }
          ],
          "scattermapbox": [
           {
            "marker": {
             "colorbar": {
              "outlinewidth": 0,
              "ticks": ""
             }
            },
            "type": "scattermapbox"
           }
          ],
          "scatterpolar": [
           {
            "marker": {
             "colorbar": {
              "outlinewidth": 0,
              "ticks": ""
             }
            },
            "type": "scatterpolar"
           }
          ],
          "scatterpolargl": [
           {
            "marker": {
             "colorbar": {
              "outlinewidth": 0,
              "ticks": ""
             }
            },
            "type": "scatterpolargl"
           }
          ],
          "scatterternary": [
           {
            "marker": {
             "colorbar": {
              "outlinewidth": 0,
              "ticks": ""
             }
            },
            "type": "scatterternary"
           }
          ],
          "surface": [
           {
            "colorbar": {
             "outlinewidth": 0,
             "ticks": ""
            },
            "colorscale": [
             [
              0,
              "#0d0887"
             ],
             [
              0.1111111111111111,
              "#46039f"
             ],
             [
              0.2222222222222222,
              "#7201a8"
             ],
             [
              0.3333333333333333,
              "#9c179e"
             ],
             [
              0.4444444444444444,
              "#bd3786"
             ],
             [
              0.5555555555555556,
              "#d8576b"
             ],
             [
              0.6666666666666666,
              "#ed7953"
             ],
             [
              0.7777777777777778,
              "#fb9f3a"
             ],
             [
              0.8888888888888888,
              "#fdca26"
             ],
             [
              1,
              "#f0f921"
             ]
            ],
            "type": "surface"
           }
          ],
          "table": [
           {
            "cells": {
             "fill": {
              "color": "#EBF0F8"
             },
             "line": {
              "color": "white"
             }
            },
            "header": {
             "fill": {
              "color": "#C8D4E3"
             },
             "line": {
              "color": "white"
             }
            },
            "type": "table"
           }
          ]
         },
         "layout": {
          "annotationdefaults": {
           "arrowcolor": "#2a3f5f",
           "arrowhead": 0,
           "arrowwidth": 1
          },
          "autotypenumbers": "strict",
          "coloraxis": {
           "colorbar": {
            "outlinewidth": 0,
            "ticks": ""
           }
          },
          "colorscale": {
           "diverging": [
            [
             0,
             "#8e0152"
            ],
            [
             0.1,
             "#c51b7d"
            ],
            [
             0.2,
             "#de77ae"
            ],
            [
             0.3,
             "#f1b6da"
            ],
            [
             0.4,
             "#fde0ef"
            ],
            [
             0.5,
             "#f7f7f7"
            ],
            [
             0.6,
             "#e6f5d0"
            ],
            [
             0.7,
             "#b8e186"
            ],
            [
             0.8,
             "#7fbc41"
            ],
            [
             0.9,
             "#4d9221"
            ],
            [
             1,
             "#276419"
            ]
           ],
           "sequential": [
            [
             0,
             "#0d0887"
            ],
            [
             0.1111111111111111,
             "#46039f"
            ],
            [
             0.2222222222222222,
             "#7201a8"
            ],
            [
             0.3333333333333333,
             "#9c179e"
            ],
            [
             0.4444444444444444,
             "#bd3786"
            ],
            [
             0.5555555555555556,
             "#d8576b"
            ],
            [
             0.6666666666666666,
             "#ed7953"
            ],
            [
             0.7777777777777778,
             "#fb9f3a"
            ],
            [
             0.8888888888888888,
             "#fdca26"
            ],
            [
             1,
             "#f0f921"
            ]
           ],
           "sequentialminus": [
            [
             0,
             "#0d0887"
            ],
            [
             0.1111111111111111,
             "#46039f"
            ],
            [
             0.2222222222222222,
             "#7201a8"
            ],
            [
             0.3333333333333333,
             "#9c179e"
            ],
            [
             0.4444444444444444,
             "#bd3786"
            ],
            [
             0.5555555555555556,
             "#d8576b"
            ],
            [
             0.6666666666666666,
             "#ed7953"
            ],
            [
             0.7777777777777778,
             "#fb9f3a"
            ],
            [
             0.8888888888888888,
             "#fdca26"
            ],
            [
             1,
             "#f0f921"
            ]
           ]
          },
          "colorway": [
           "#636efa",
           "#EF553B",
           "#00cc96",
           "#ab63fa",
           "#FFA15A",
           "#19d3f3",
           "#FF6692",
           "#B6E880",
           "#FF97FF",
           "#FECB52"
          ],
          "font": {
           "color": "#2a3f5f"
          },
          "geo": {
           "bgcolor": "white",
           "lakecolor": "white",
           "landcolor": "white",
           "showlakes": true,
           "showland": true,
           "subunitcolor": "#C8D4E3"
          },
          "hoverlabel": {
           "align": "left"
          },
          "hovermode": "closest",
          "mapbox": {
           "style": "light"
          },
          "paper_bgcolor": "white",
          "plot_bgcolor": "white",
          "polar": {
           "angularaxis": {
            "gridcolor": "#EBF0F8",
            "linecolor": "#EBF0F8",
            "ticks": ""
           },
           "bgcolor": "white",
           "radialaxis": {
            "gridcolor": "#EBF0F8",
            "linecolor": "#EBF0F8",
            "ticks": ""
           }
          },
          "scene": {
           "xaxis": {
            "backgroundcolor": "white",
            "gridcolor": "#DFE8F3",
            "gridwidth": 2,
            "linecolor": "#EBF0F8",
            "showbackground": true,
            "ticks": "",
            "zerolinecolor": "#EBF0F8"
           },
           "yaxis": {
            "backgroundcolor": "white",
            "gridcolor": "#DFE8F3",
            "gridwidth": 2,
            "linecolor": "#EBF0F8",
            "showbackground": true,
            "ticks": "",
            "zerolinecolor": "#EBF0F8"
           },
           "zaxis": {
            "backgroundcolor": "white",
            "gridcolor": "#DFE8F3",
            "gridwidth": 2,
            "linecolor": "#EBF0F8",
            "showbackground": true,
            "ticks": "",
            "zerolinecolor": "#EBF0F8"
           }
          },
          "shapedefaults": {
           "line": {
            "color": "#2a3f5f"
           }
          },
          "ternary": {
           "aaxis": {
            "gridcolor": "#DFE8F3",
            "linecolor": "#A2B1C6",
            "ticks": ""
           },
           "baxis": {
            "gridcolor": "#DFE8F3",
            "linecolor": "#A2B1C6",
            "ticks": ""
           },
           "bgcolor": "white",
           "caxis": {
            "gridcolor": "#DFE8F3",
            "linecolor": "#A2B1C6",
            "ticks": ""
           }
          },
          "title": {
           "x": 0.05
          },
          "xaxis": {
           "automargin": true,
           "gridcolor": "#EBF0F8",
           "linecolor": "#EBF0F8",
           "ticks": "",
           "title": {
            "standoff": 15
           },
           "zerolinecolor": "#EBF0F8",
           "zerolinewidth": 2
          },
          "yaxis": {
           "automargin": true,
           "gridcolor": "#EBF0F8",
           "linecolor": "#EBF0F8",
           "ticks": "",
           "title": {
            "standoff": 15
           },
           "zerolinecolor": "#EBF0F8",
           "zerolinewidth": 2
          }
         }
        },
        "title": {
         "text": "Scatter plot matrix"
        }
       }
      },
      "text/html": [
       "<div>                        <script type=\"text/javascript\">window.PlotlyConfig = {MathJaxConfig: 'local'};</script>\n",
       "        <script charset=\"utf-8\" src=\"https://cdn.plot.ly/plotly-3.0.1.min.js\"></script>                <div id=\"d264073a-15e1-454f-afe3-223f928065f9\" class=\"plotly-graph-div\" style=\"height:100%; width:100%;\"></div>            <script type=\"text/javascript\">                window.PLOTLYENV=window.PLOTLYENV || {};                                if (document.getElementById(\"d264073a-15e1-454f-afe3-223f928065f9\")) {                    Plotly.newPlot(                        \"d264073a-15e1-454f-afe3-223f928065f9\",                        [{\"dimensions\":[{\"axis\":{\"matches\":true},\"label\":\"WCC\",\"values\":{\"dtype\":\"f8\",\"bdata\":\"AAAAAAAAMUAAAAAAAAAoQAAAAAAAADBAAAAAAAAAGEAAAAAAAAAzQAAAAAAAABxAAAAAAAAALkAAAAAAAAAsQAAAAAAAACZAAAAAAAAAPUAAAAAAAAAoQAAAAAAAADFAAAAAAAAANEAAAAAAAAAiQAAAAAAAADZAAAAAAAAALEAAAAAAAAA0QAAAAAAAACRAAAAAAAAAJEAAAAAAAAA1QAAAAAAAADJAAAAAAAAAMEAAAAAAAAAyQAAAAAAAADJAAAAAAAAAIkAAAAAAAAAQQAAAAAAAABxAAAAAAAAAGEAAAAAAAAAQQAAAAAAAAChAAAAAAAAAKEAAAAAAAAAuQAAAAAAAADBAAAAAAAAAKkAAAAAAAAAsQAAAAAAAAC5AAAAAAAAAJEAAAAAAAAAmQAAAAAAAAC5AAAAAAAAAKEAAAAAAAAAoQAAAAAAAACxAAAAAAAAANkAAAAAAAAAxQAAAAAAAACpAAAAAAAAAKEAAAAAAAAAsQAAAAAAAADpAAAAAAAAA8L8AAAAAAAAyQAAAAAAAADBAAAAAAAAAM0AAAAAAAAAiQAAAAAAAADpAAAAAAAAANEAAAAAAAAAuQAAAAAAAADBAAAAAAAAAJkAAAAAAAAAuQAAAAAAAACxAAAAAAAAANEAAAAAAAAAxQAAAAAAAAC5AAAAAAAAAMkAAAAAAAAAyQAAAAAAAADBAAAAAAAAAHEAAAAAAAAA0QAAAAAAAACJAAAAAAAAAJEAAAAAAAAAsQAAAAAAAADJAAAAAAAAANkAAAAAAAAAcQAAAAAAAADZAAAAAAAAAN0AAAAAAAAAqQAAAAAAAACxAAAAAAAAAKEAAAAAAAAAoQAAAAAAAACBAAAAAAAAAHEAAAAAAAAAsQAAAAAAAADBAAAAAAAAAOEAAAAAAAAAkQAAAAAAAABRAAAAAAAAAMEAAAAAAAAAqQAAAAAAAADFAAAAAAAAAKkAAAAAAAAAiQAAAAAAAAChAAAAAAAAAM0AAAAAAAAAwQAAAAAAAACRAAAAAAAAAM0AAAAAAAAAgQAAAAAAAAChAAAAAAAAAMEA=\"}},{\"axis\":{\"matches\":true},\"label\":\"CRP\",\"values\":{\"dtype\":\"f8\",\"bdata\":\"AAAAAAAANEAAAAAAAAAoQAAAAAAAAEBAAAAAAAAAJkAAAAAAAIBBQAAAAAAAACBAAAAAAAAAM0AAAAAAAAA0QAAAAAAAAEpAAAAAAAAASkAAAAAAAIBDQAAAAAAAADxAAAAAAAAAS0AAAAAAAAA+QAAAAAAAgEhAAAAAAAAANkAAAAAAAAA6QAAAAAAAAD5AAAAAAAAAHEAAAAAAAAA9QAAAAAAAgElAAAAAAACAR0AAAAAAAABCQAAAAAAAAEFAAAAAAAAAJkAAAAAAAAAoQAAAAAAAACJAAAAAAAAACMAAAAAAAAAAAAAAAAAAADpAAAAAAAAAIEAAAAAAAAA0QAAAAAAAgEBAAAAAAACARUAAAAAAAAA+QAAAAAAAAD5AAAAAAACAQ0AAAAAAAAAmQAAAAAAAADdAAAAAAAAAQEAAAAAAAIBBQAAAAAAAgEBAAAAAAAAAMkAAAAAAAIBEQAAAAAAAgEBAAAAAAAAAOEAAAAAAAIBBQAAAAAAAgFBAAAAAAAAA8L8AAAAAAAA7QAAAAAAAACxAAAAAAACAQ0AAAAAAAAAmQAAAAAAAAEdAAAAAAAAAPUAAAAAAAIBAQAAAAAAAgENAAAAAAAAAOkAAAAAAAAAzQAAAAAAAgEJAAAAAAACARUAAAAAAAAAiQAAAAAAAAEJAAAAAAAAAMEAAAAAAAAA5QAAAAAAAgEVAAAAAAAAANUAAAAAAAABBQAAAAAAAACJAAAAAAAAAN0AAAAAAAAAkQAAAAAAAAERAAAAAAACAREAAAAAAAAA1QAAAAAAAgEVAAAAAAACAQUAAAAAAAAA8QAAAAAAAADlAAAAAAAAAJEAAAAAAAAAoQAAAAAAAABhAAAAAAAAALkAAAAAAAABCQAAAAAAAAEBAAAAAAAAAQkAAAAAAAAAwQAAAAAAAADBAAAAAAACARUAAAAAAAAAxQAAAAAAAgEJAAAAAAAAANkAAAAAAAAAQwAAAAAAAACZAAAAAAAAAQEAAAAAAAAA7QAAAAAAAADBAAAAAAAAAQEAAAAAAAAA0QAAAAAAAACxAAAAAAAAAMEA=\"}},{\"axis\":{\"matches\":true},\"label\":\"Lipase\",\"values\":{\"dtype\":\"f8\",\"bdata\":\"AAAAAAAARkAAAAAAAAA0QAAAAAAAAE1AAAAAAAAAJkAAAAAAAEBRQAAAAAAAABRAAAAAAAAAOEAAAAAAAIBFQAAAAAAAwFRAAAAAAADAUkAAAAAAAEBRQAAAAAAAAE9AAAAAAAAAVUAAAAAAAIBDQAAAAAAAgElAAAAAAAAANkAAAAAAAABEQAAAAAAAgEdAAAAAAAAAMUAAAAAAAIBGQAAAAAAAAFJAAAAAAAAASEAAAAAAAABOQAAAAAAAAEZAAAAAAACAQUAAAAAAAAA0QAAAAAAAACRAAAAAAAAAAAAAAAAAAAAkwAAAAAAAAEVAAAAAAAAAKEAAAAAAAABCQAAAAAAAAE9AAAAAAACATkAAAAAAAIBJQAAAAAAAQFJAAAAAAAAATUAAAAAAAIBBQAAAAAAAgEJAAAAAAAAAQUAAAAAAAIBJQAAAAAAAgEJAAAAAAAAAKEAAAAAAAIBQQAAAAAAAgElAAAAAAAAAO0AAAAAAAABQQAAAAAAAQFdAAAAAAAAAFMAAAAAAAIBCQAAAAAAAAEZAAAAAAAAATEAAAAAAAAAxQAAAAAAAQFFAAAAAAACARUAAAAAAAIBAQAAAAAAAAElAAAAAAAAAPkAAAAAAAIBFQAAAAAAAAERAAAAAAAAAUkAAAAAAAAA3QAAAAAAAgEZAAAAAAAAAQUAAAAAAAIBGQAAAAAAAAE9AAAAAAAAAQkAAAAAAAABNQAAAAAAAABBAAAAAAAAAPEAAAAAAAABFQAAAAAAAgE1AAAAAAAAARUAAAAAAAABAQAAAAAAAAFVAAAAAAAAAUkAAAAAAAABGQAAAAAAAgEVAAAAAAAAAPkAAAAAAAAA4QAAAAAAAACZAAAAAAAAAREAAAAAAAABIQAAAAAAAAE5AAAAAAAAAR0AAAAAAAAA0QAAAAAAAACZAAAAAAABAUEAAAAAAAAA6QAAAAAAAgEhAAAAAAAAAPEAAAAAAAAAgQAAAAAAAgEFAAAAAAACAR0AAAAAAAIBJQAAAAAAAADxAAAAAAACAR0AAAAAAAIBAQAAAAAAAgERAAAAAAAAAIEA=\"}}],\"hovertemplate\":\"%{xaxis.title.text}=%{x}\\u003cbr\\u003e%{yaxis.title.text}=%{y}\\u003cextra\\u003e\\u003c\\u002fextra\\u003e\",\"legendgroup\":\"\",\"marker\":{\"color\":\"#636efa\",\"symbol\":\"circle\"},\"name\":\"\",\"showlegend\":false,\"type\":\"splom\"}],                        {\"template\":{\"data\":{\"histogram2dcontour\":[{\"type\":\"histogram2dcontour\",\"colorbar\":{\"outlinewidth\":0,\"ticks\":\"\"},\"colorscale\":[[0.0,\"#0d0887\"],[0.1111111111111111,\"#46039f\"],[0.2222222222222222,\"#7201a8\"],[0.3333333333333333,\"#9c179e\"],[0.4444444444444444,\"#bd3786\"],[0.5555555555555556,\"#d8576b\"],[0.6666666666666666,\"#ed7953\"],[0.7777777777777778,\"#fb9f3a\"],[0.8888888888888888,\"#fdca26\"],[1.0,\"#f0f921\"]]}],\"choropleth\":[{\"type\":\"choropleth\",\"colorbar\":{\"outlinewidth\":0,\"ticks\":\"\"}}],\"histogram2d\":[{\"type\":\"histogram2d\",\"colorbar\":{\"outlinewidth\":0,\"ticks\":\"\"},\"colorscale\":[[0.0,\"#0d0887\"],[0.1111111111111111,\"#46039f\"],[0.2222222222222222,\"#7201a8\"],[0.3333333333333333,\"#9c179e\"],[0.4444444444444444,\"#bd3786\"],[0.5555555555555556,\"#d8576b\"],[0.6666666666666666,\"#ed7953\"],[0.7777777777777778,\"#fb9f3a\"],[0.8888888888888888,\"#fdca26\"],[1.0,\"#f0f921\"]]}],\"heatmap\":[{\"type\":\"heatmap\",\"colorbar\":{\"outlinewidth\":0,\"ticks\":\"\"},\"colorscale\":[[0.0,\"#0d0887\"],[0.1111111111111111,\"#46039f\"],[0.2222222222222222,\"#7201a8\"],[0.3333333333333333,\"#9c179e\"],[0.4444444444444444,\"#bd3786\"],[0.5555555555555556,\"#d8576b\"],[0.6666666666666666,\"#ed7953\"],[0.7777777777777778,\"#fb9f3a\"],[0.8888888888888888,\"#fdca26\"],[1.0,\"#f0f921\"]]}],\"contourcarpet\":[{\"type\":\"contourcarpet\",\"colorbar\":{\"outlinewidth\":0,\"ticks\":\"\"}}],\"contour\":[{\"type\":\"contour\",\"colorbar\":{\"outlinewidth\":0,\"ticks\":\"\"},\"colorscale\":[[0.0,\"#0d0887\"],[0.1111111111111111,\"#46039f\"],[0.2222222222222222,\"#7201a8\"],[0.3333333333333333,\"#9c179e\"],[0.4444444444444444,\"#bd3786\"],[0.5555555555555556,\"#d8576b\"],[0.6666666666666666,\"#ed7953\"],[0.7777777777777778,\"#fb9f3a\"],[0.8888888888888888,\"#fdca26\"],[1.0,\"#f0f921\"]]}],\"surface\":[{\"type\":\"surface\",\"colorbar\":{\"outlinewidth\":0,\"ticks\":\"\"},\"colorscale\":[[0.0,\"#0d0887\"],[0.1111111111111111,\"#46039f\"],[0.2222222222222222,\"#7201a8\"],[0.3333333333333333,\"#9c179e\"],[0.4444444444444444,\"#bd3786\"],[0.5555555555555556,\"#d8576b\"],[0.6666666666666666,\"#ed7953\"],[0.7777777777777778,\"#fb9f3a\"],[0.8888888888888888,\"#fdca26\"],[1.0,\"#f0f921\"]]}],\"mesh3d\":[{\"type\":\"mesh3d\",\"colorbar\":{\"outlinewidth\":0,\"ticks\":\"\"}}],\"scatter\":[{\"fillpattern\":{\"fillmode\":\"overlay\",\"size\":10,\"solidity\":0.2},\"type\":\"scatter\"}],\"parcoords\":[{\"type\":\"parcoords\",\"line\":{\"colorbar\":{\"outlinewidth\":0,\"ticks\":\"\"}}}],\"scatterpolargl\":[{\"type\":\"scatterpolargl\",\"marker\":{\"colorbar\":{\"outlinewidth\":0,\"ticks\":\"\"}}}],\"bar\":[{\"error_x\":{\"color\":\"#2a3f5f\"},\"error_y\":{\"color\":\"#2a3f5f\"},\"marker\":{\"line\":{\"color\":\"white\",\"width\":0.5},\"pattern\":{\"fillmode\":\"overlay\",\"size\":10,\"solidity\":0.2}},\"type\":\"bar\"}],\"scattergeo\":[{\"type\":\"scattergeo\",\"marker\":{\"colorbar\":{\"outlinewidth\":0,\"ticks\":\"\"}}}],\"scatterpolar\":[{\"type\":\"scatterpolar\",\"marker\":{\"colorbar\":{\"outlinewidth\":0,\"ticks\":\"\"}}}],\"histogram\":[{\"marker\":{\"pattern\":{\"fillmode\":\"overlay\",\"size\":10,\"solidity\":0.2}},\"type\":\"histogram\"}],\"scattergl\":[{\"type\":\"scattergl\",\"marker\":{\"colorbar\":{\"outlinewidth\":0,\"ticks\":\"\"}}}],\"scatter3d\":[{\"type\":\"scatter3d\",\"line\":{\"colorbar\":{\"outlinewidth\":0,\"ticks\":\"\"}},\"marker\":{\"colorbar\":{\"outlinewidth\":0,\"ticks\":\"\"}}}],\"scattermap\":[{\"type\":\"scattermap\",\"marker\":{\"colorbar\":{\"outlinewidth\":0,\"ticks\":\"\"}}}],\"scattermapbox\":[{\"type\":\"scattermapbox\",\"marker\":{\"colorbar\":{\"outlinewidth\":0,\"ticks\":\"\"}}}],\"scatterternary\":[{\"type\":\"scatterternary\",\"marker\":{\"colorbar\":{\"outlinewidth\":0,\"ticks\":\"\"}}}],\"scattercarpet\":[{\"type\":\"scattercarpet\",\"marker\":{\"colorbar\":{\"outlinewidth\":0,\"ticks\":\"\"}}}],\"carpet\":[{\"aaxis\":{\"endlinecolor\":\"#2a3f5f\",\"gridcolor\":\"#C8D4E3\",\"linecolor\":\"#C8D4E3\",\"minorgridcolor\":\"#C8D4E3\",\"startlinecolor\":\"#2a3f5f\"},\"baxis\":{\"endlinecolor\":\"#2a3f5f\",\"gridcolor\":\"#C8D4E3\",\"linecolor\":\"#C8D4E3\",\"minorgridcolor\":\"#C8D4E3\",\"startlinecolor\":\"#2a3f5f\"},\"type\":\"carpet\"}],\"table\":[{\"cells\":{\"fill\":{\"color\":\"#EBF0F8\"},\"line\":{\"color\":\"white\"}},\"header\":{\"fill\":{\"color\":\"#C8D4E3\"},\"line\":{\"color\":\"white\"}},\"type\":\"table\"}],\"barpolar\":[{\"marker\":{\"line\":{\"color\":\"white\",\"width\":0.5},\"pattern\":{\"fillmode\":\"overlay\",\"size\":10,\"solidity\":0.2}},\"type\":\"barpolar\"}],\"pie\":[{\"automargin\":true,\"type\":\"pie\"}]},\"layout\":{\"autotypenumbers\":\"strict\",\"colorway\":[\"#636efa\",\"#EF553B\",\"#00cc96\",\"#ab63fa\",\"#FFA15A\",\"#19d3f3\",\"#FF6692\",\"#B6E880\",\"#FF97FF\",\"#FECB52\"],\"font\":{\"color\":\"#2a3f5f\"},\"hovermode\":\"closest\",\"hoverlabel\":{\"align\":\"left\"},\"paper_bgcolor\":\"white\",\"plot_bgcolor\":\"white\",\"polar\":{\"bgcolor\":\"white\",\"angularaxis\":{\"gridcolor\":\"#EBF0F8\",\"linecolor\":\"#EBF0F8\",\"ticks\":\"\"},\"radialaxis\":{\"gridcolor\":\"#EBF0F8\",\"linecolor\":\"#EBF0F8\",\"ticks\":\"\"}},\"ternary\":{\"bgcolor\":\"white\",\"aaxis\":{\"gridcolor\":\"#DFE8F3\",\"linecolor\":\"#A2B1C6\",\"ticks\":\"\"},\"baxis\":{\"gridcolor\":\"#DFE8F3\",\"linecolor\":\"#A2B1C6\",\"ticks\":\"\"},\"caxis\":{\"gridcolor\":\"#DFE8F3\",\"linecolor\":\"#A2B1C6\",\"ticks\":\"\"}},\"coloraxis\":{\"colorbar\":{\"outlinewidth\":0,\"ticks\":\"\"}},\"colorscale\":{\"sequential\":[[0.0,\"#0d0887\"],[0.1111111111111111,\"#46039f\"],[0.2222222222222222,\"#7201a8\"],[0.3333333333333333,\"#9c179e\"],[0.4444444444444444,\"#bd3786\"],[0.5555555555555556,\"#d8576b\"],[0.6666666666666666,\"#ed7953\"],[0.7777777777777778,\"#fb9f3a\"],[0.8888888888888888,\"#fdca26\"],[1.0,\"#f0f921\"]],\"sequentialminus\":[[0.0,\"#0d0887\"],[0.1111111111111111,\"#46039f\"],[0.2222222222222222,\"#7201a8\"],[0.3333333333333333,\"#9c179e\"],[0.4444444444444444,\"#bd3786\"],[0.5555555555555556,\"#d8576b\"],[0.6666666666666666,\"#ed7953\"],[0.7777777777777778,\"#fb9f3a\"],[0.8888888888888888,\"#fdca26\"],[1.0,\"#f0f921\"]],\"diverging\":[[0,\"#8e0152\"],[0.1,\"#c51b7d\"],[0.2,\"#de77ae\"],[0.3,\"#f1b6da\"],[0.4,\"#fde0ef\"],[0.5,\"#f7f7f7\"],[0.6,\"#e6f5d0\"],[0.7,\"#b8e186\"],[0.8,\"#7fbc41\"],[0.9,\"#4d9221\"],[1,\"#276419\"]]},\"xaxis\":{\"gridcolor\":\"#EBF0F8\",\"linecolor\":\"#EBF0F8\",\"ticks\":\"\",\"title\":{\"standoff\":15},\"zerolinecolor\":\"#EBF0F8\",\"automargin\":true,\"zerolinewidth\":2},\"yaxis\":{\"gridcolor\":\"#EBF0F8\",\"linecolor\":\"#EBF0F8\",\"ticks\":\"\",\"title\":{\"standoff\":15},\"zerolinecolor\":\"#EBF0F8\",\"automargin\":true,\"zerolinewidth\":2},\"scene\":{\"xaxis\":{\"backgroundcolor\":\"white\",\"gridcolor\":\"#DFE8F3\",\"linecolor\":\"#EBF0F8\",\"showbackground\":true,\"ticks\":\"\",\"zerolinecolor\":\"#EBF0F8\",\"gridwidth\":2},\"yaxis\":{\"backgroundcolor\":\"white\",\"gridcolor\":\"#DFE8F3\",\"linecolor\":\"#EBF0F8\",\"showbackground\":true,\"ticks\":\"\",\"zerolinecolor\":\"#EBF0F8\",\"gridwidth\":2},\"zaxis\":{\"backgroundcolor\":\"white\",\"gridcolor\":\"#DFE8F3\",\"linecolor\":\"#EBF0F8\",\"showbackground\":true,\"ticks\":\"\",\"zerolinecolor\":\"#EBF0F8\",\"gridwidth\":2}},\"shapedefaults\":{\"line\":{\"color\":\"#2a3f5f\"}},\"annotationdefaults\":{\"arrowcolor\":\"#2a3f5f\",\"arrowhead\":0,\"arrowwidth\":1},\"geo\":{\"bgcolor\":\"white\",\"landcolor\":\"white\",\"subunitcolor\":\"#C8D4E3\",\"showland\":true,\"showlakes\":true,\"lakecolor\":\"white\"},\"title\":{\"x\":0.05},\"mapbox\":{\"style\":\"light\"}}},\"legend\":{\"tracegroupgap\":0},\"title\":{\"text\":\"Scatter plot matrix\"},\"dragmode\":\"select\"},                        {\"responsive\": true}                    )                };            </script>        </div>"
      ],
      "text/plain": [
       "Figure({\n",
       "    'data': [{'dimensions': [{'axis': {'matches': True},\n",
       "                              'label': 'WCC',\n",
       "                              'values': {'bdata': ('AAAAAAAAMUAAAAAAAAAoQAAAAAAAAD' ... 'AAAAAgQAAAAAAAAChAAAAAAAAAMEA='),\n",
       "                                         'dtype': 'f8'}},\n",
       "                             {'axis': {'matches': True},\n",
       "                              'label': 'CRP',\n",
       "                              'values': {'bdata': ('AAAAAAAANEAAAAAAAAAoQAAAAAAAAE' ... 'AAAAA0QAAAAAAAACxAAAAAAAAAMEA='),\n",
       "                                         'dtype': 'f8'}},\n",
       "                             {'axis': {'matches': True},\n",
       "                              'label': 'Lipase',\n",
       "                              'values': {'bdata': ('AAAAAAAARkAAAAAAAAA0QAAAAAAAAE' ... 'AAAIBAQAAAAAAAgERAAAAAAAAAIEA='),\n",
       "                                         'dtype': 'f8'}}],\n",
       "              'hovertemplate': '%{xaxis.title.text}=%{x}<br>%{yaxis.title.text}=%{y}<extra></extra>',\n",
       "              'legendgroup': '',\n",
       "              'marker': {'color': '#636efa', 'symbol': 'circle'},\n",
       "              'name': '',\n",
       "              'showlegend': False,\n",
       "              'type': 'splom'}],\n",
       "    'layout': {'dragmode': 'select',\n",
       "               'legend': {'tracegroupgap': 0},\n",
       "               'template': '...',\n",
       "               'title': {'text': 'Scatter plot matrix'}}\n",
       "})"
      ]
     },
     "execution_count": 11,
     "metadata": {},
     "output_type": "execute_result"
    }
   ],
   "source": [
    "px.scatter_matrix(\n",
    "    df,\n",
    "    title='Scatter plot matrix'\n",
    ")"
   ]
  },
  {
   "cell_type": "code",
   "execution_count": 12,
   "id": "590d30df",
   "metadata": {},
   "outputs": [],
   "source": [
    "# Target vector and design matrix\n",
    "y, X = dmatrices('Lipase ~ WCC + CRP', data = df)"
   ]
  },
  {
   "cell_type": "markdown",
   "id": "e67f58e1",
   "metadata": {},
   "source": [
    "### 1. Multiple Linear Regression"
   ]
  },
  {
   "cell_type": "code",
   "execution_count": 13,
   "id": "afacb01f",
   "metadata": {},
   "outputs": [
    {
     "name": "stdout",
     "output_type": "stream",
     "text": [
      "                            OLS Regression Results                            \n",
      "==============================================================================\n",
      "Dep. Variable:                 Lipase   R-squared:                       0.764\n",
      "Model:                            OLS   Adj. R-squared:                  0.759\n",
      "Method:                 Least Squares   F-statistic:                     157.3\n",
      "Date:                Mon, 21 Apr 2025   Prob (F-statistic):           3.61e-31\n",
      "Time:                        23:11:14   Log-Likelihood:                -374.15\n",
      "No. Observations:                 100   AIC:                             754.3\n",
      "Df Residuals:                      97   BIC:                             762.1\n",
      "Df Model:                           2                                         \n",
      "Covariance Type:            nonrobust                                         \n",
      "==============================================================================\n",
      "                 coef    std err          t      P>|t|      [0.025      0.975]\n",
      "------------------------------------------------------------------------------\n",
      "Intercept      2.3741      3.013      0.788      0.433      -3.606       8.354\n",
      "WCC            0.5426      0.268      2.021      0.046       0.010       1.075\n",
      "CRP            1.1827      0.101     11.664      0.000       0.981       1.384\n",
      "==============================================================================\n",
      "Omnibus:                        0.113   Durbin-Watson:                   1.936\n",
      "Prob(Omnibus):                  0.945   Jarque-Bera (JB):                0.287\n",
      "Skew:                           0.029   Prob(JB):                        0.866\n",
      "Kurtosis:                       2.744   Cond. No.                         96.4\n",
      "==============================================================================\n",
      "\n",
      "Notes:\n",
      "[1] Standard Errors assume that the covariance matrix of the errors is correctly specified.\n"
     ]
    }
   ],
   "source": [
    "# Create a multiple linear regression model with WWC and CRP as predictors of Lipase\n",
    "model = sm.OLS(y, X).fit()\n",
    "# Print the summary of the model\n",
    "print(model.summary())"
   ]
  },
  {
   "cell_type": "markdown",
   "id": "55d762fa",
   "metadata": {},
   "source": [
    "### 2. Analyzing F Statistic"
   ]
  },
  {
   "cell_type": "code",
   "execution_count": null,
   "id": "f0630263",
   "metadata": {},
   "outputs": [
    {
     "name": "stdout",
     "output_type": "stream",
     "text": [
      "F-statistic: 157.28700016186937\n",
      "F p-value: 3.6116396316538945e-31\n"
     ]
    }
   ],
   "source": [
    "# Extract the F statistic and its p-value\n",
    "f_statistic = model.fvalue\n",
    "f_p_value = model.f_pvalue\n",
    "print(f\"F-statistic: {f_statistic}\")\n",
    "print(f\"F p-value: {f_p_value}\")"
   ]
  },
  {
   "cell_type": "markdown",
   "id": "8306009b",
   "metadata": {},
   "source": [
    "#### The F-statistic is very large and has a very small p-value close to 0. This means that at the 5% level of significance, the null hypothesis can be rejected and there is enough evidence to suggest that the variables WCC and CRP may be strong predictors of the lipase levels."
   ]
  },
  {
   "cell_type": "markdown",
   "id": "26e8612d",
   "metadata": {},
   "source": [
    "### 3. Individual Coefficients & P Values"
   ]
  },
  {
   "cell_type": "code",
   "execution_count": 20,
   "id": "a082cf5c",
   "metadata": {},
   "outputs": [
    {
     "name": "stdout",
     "output_type": "stream",
     "text": [
      "Coefficient for WCC: 0.5426102095697339\n",
      "Coefficient for CRP: 1.1826836477074805\n",
      "p-value for WCC: 0.04600098849856741\n",
      "p-value for CRP: 3.6245638880913704e-20\n"
     ]
    }
   ],
   "source": [
    "# Print the coefficients WCC, CRP, and Lipase and their p-values\n",
    "print(f\"Coefficient for WCC: {model.params[1]}\")\n",
    "print(f\"Coefficient for CRP: {model.params[2]}\")\n",
    "print(f\"p-value for WCC: {model.pvalues[1]}\")\n",
    "print(f\"p-value for CRP: {model.pvalues[2]}\")\n"
   ]
  },
  {
   "cell_type": "code",
   "execution_count": 26,
   "id": "bc7454d8",
   "metadata": {},
   "outputs": [
    {
     "name": "stdout",
     "output_type": "stream",
     "text": [
      "Reject the null hypothesis: WCC is significantly associated with Lipase.\n",
      "Reject the null hypothesis: CRP is significantly associated with Lipase.\n"
     ]
    }
   ],
   "source": [
    "# is the WCC coefficient significant based on the p-value at the 0.05 level?\n",
    "alpha = 0.05\n",
    "if model.pvalues[1] < alpha:\n",
    "    print(\"Reject the null hypothesis: WCC is significantly associated with Lipase.\")\n",
    "else:\n",
    "    print(\"Fail to reject the null hypothesis: WCC is not significantly associated with Lipase.\")\n",
    "# is the CRP coefficient significant based on the p-value at the 0.05 level?\n",
    "alpha = 0.05\n",
    "if model.pvalues[2] < alpha:\n",
    "    print(\"Reject the null hypothesis: CRP is significantly associated with Lipase.\")\n",
    "else:\n",
    "    print(\"Fail to reject the null hypothesis: CRP is not significantly associated with Lipase.\")"
   ]
  },
  {
   "cell_type": "markdown",
   "id": "5bfaf9a4",
   "metadata": {},
   "source": [
    "#### Based on the p-values at the 5% significance level, the coefficients are linearly associated with Lipase."
   ]
  },
  {
   "cell_type": "markdown",
   "id": "9ecc56b7",
   "metadata": {},
   "source": [
    "### 4. R^2 Value"
   ]
  },
  {
   "cell_type": "code",
   "execution_count": 23,
   "id": "426b6bfd",
   "metadata": {},
   "outputs": [
    {
     "name": "stdout",
     "output_type": "stream",
     "text": [
      "R-squared: 0.7643194178356721\n"
     ]
    }
   ],
   "source": [
    "# What is the r-squared value of the model?\n",
    "r_squared = model.rsquared\n",
    "print(f\"R-squared: {r_squared}\")"
   ]
  },
  {
   "cell_type": "markdown",
   "id": "7449b5e3",
   "metadata": {},
   "source": [
    "The r-squred value is 0.7643, which means that the model explains 76.43% of the variance in the Lipase levels. This indicates a strong relationship between the predictors (WCC and CRP) and the response variable (Lipase)."
   ]
  },
  {
   "cell_type": "code",
   "execution_count": null,
   "id": "6bf6734f",
   "metadata": {},
   "outputs": [],
   "source": []
  }
 ],
 "metadata": {
  "kernelspec": {
   "display_name": ".venv",
   "language": "python",
   "name": "python3"
  },
  "language_info": {
   "codemirror_mode": {
    "name": "ipython",
    "version": 3
   },
   "file_extension": ".py",
   "mimetype": "text/x-python",
   "name": "python",
   "nbconvert_exporter": "python",
   "pygments_lexer": "ipython3",
   "version": "3.13.1"
  }
 },
 "nbformat": 4,
 "nbformat_minor": 5
}
