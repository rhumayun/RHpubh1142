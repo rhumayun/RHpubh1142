{
 "cells": [
  {
   "cell_type": "markdown",
   "metadata": {},
   "source": [
    "# Week 3 Assignment"
   ]
  },
  {
   "cell_type": "markdown",
   "metadata": {},
   "source": [
    "### 1. What is the primary goal of data anonymization?\n"
   ]
  },
  {
   "cell_type": "markdown",
   "metadata": {},
   "source": [
    "The primary goal of data anonymization, or data de-identification, is to protect the identity of an individual from their sensitive information to allow for data to be used in analysis and research findings without linking identifying characteristics to individuals."
   ]
  },
  {
   "cell_type": "markdown",
   "metadata": {},
   "source": [
    "### 2. What is the Havasupai Tribe case about?"
   ]
  },
  {
   "cell_type": "markdown",
   "metadata": {},
   "source": [
    "The Havasupai tribe case involved the misuse of blood sample data from members of the Havasupai tribe by researchers at the Arizona State University (ASU). ASU researchers had informed consent to use health data to support an investigation on the genetic underpinnings of diabetes within the Havasupai community. However, without obtaining further informed consent, researchers used the same blood samples to conduct additional studies, such as investigating genetic markers for schizophrenia, metabolic disorders, and tracing geographical origins.The Havasupai Tribe sued ASU and the Arizona Board of Regents, receiving $700,000 in damages, return of blood samples, and other assistance."
   ]
  },
  {
   "cell_type": "markdown",
   "metadata": {},
   "source": [
    "### 3. What was the largest health data breach in history?"
   ]
  },
  {
   "cell_type": "markdown",
   "metadata": {},
   "source": [
    "Anthem Inc., one of the largest health insurance companies in the US, was a victim of the largest health data breach in history. Through a cyberattack, hackers breached Anthem's system to access personal inforamtion of almost 78.8 million people, which compromised information such as names, birthdates, social security numbers, home addresses, and employment information. "
   ]
  },
  {
   "cell_type": "markdown",
   "metadata": {},
   "source": [
    "### 4. What is the pulse oximeter controversy about?"
   ]
  },
  {
   "cell_type": "markdown",
   "metadata": {},
   "source": [
    "The pulse oximeter controversy is an example of how bias can be very discrete in health data and technology, but can have negative implications that reinforce health disparities. The pulse oximeter is a common medical device used to measure blook oxygen levels in the blood. However, studies have shown that these devices are inherently racially biased due to utilizing algorithms to calculate oxygen saturation that are primarily based on data from light-skinned individuals. This is problematic because darker skin pigmintation can absorb mor elight and potentially lead to a pulse oximiter overestimating oxygen levels. Recent studies have shown that pulse oximeters were nearly three times more likely to miss hypoxemia (low blood oxygen levels) among Black patients compared to White patients. "
   ]
  },
  {
   "cell_type": "markdown",
   "metadata": {},
   "source": [
    "### 5. What is the role of an Institutional Review Board (IRB) in research?"
   ]
  },
  {
   "cell_type": "markdown",
   "metadata": {},
   "source": [
    "Institutional Review Boarrds, or ethics committees, are responsible for ensuring that standards for research ethics are upheld in order to protect research participants and responsible collection, usage, and sharing of data. "
   ]
  },
  {
   "cell_type": "markdown",
   "metadata": {},
   "source": [
    "### 6. What is the difference between spreadsheet software and database software for health data management?"
   ]
  },
  {
   "cell_type": "markdown",
   "metadata": {},
   "source": [
    "Both spreadsheet and database softwares are utilized for storing, managing, and analyzing datasets. Spreadsheet software is often more limited in its scope of capabilities, while database software can support analysis of more complex, interrelated datasets to identify various connections. "
   ]
  },
  {
   "cell_type": "markdown",
   "metadata": {},
   "source": [
    "### 7. What is a conflict of interest in public health research?"
   ]
  },
  {
   "cell_type": "markdown",
   "metadata": {},
   "source": [
    "A conflict of interest in public health research is when a person or organization involved in a research project has a personal, financial, political, academic, or organizational interest that may bias the way the research is carried out, the findings of the research, or how the research is reported. "
   ]
  },
  {
   "cell_type": "markdown",
   "metadata": {},
   "source": [
    "### 8. What is informed consent in the context of health data collection?"
   ]
  },
  {
   "cell_type": "markdown",
   "metadata": {},
   "source": [
    "Informed consent involves participants being provided with adequate information about their role in a research study, inclduing the purpose fo the data being collected, how the data will be used, who will have access to data, the potential risks and benefits of being involved in a study, and their right to withdraw from the research study at any time."
   ]
  },
  {
   "cell_type": "markdown",
   "metadata": {},
   "source": [
    "### 9. What is data masking in the context of de-identification of health data?"
   ]
  },
  {
   "cell_type": "markdown",
   "metadata": {},
   "source": [
    "Data masking is to replace identifable information with random characters or removing it completely. "
   ]
  },
  {
   "cell_type": "markdown",
   "metadata": {},
   "source": [
    "### 10. What is the principle of k-anonymity in the context of de-identification of health data?"
   ]
  },
  {
   "cell_type": "markdown",
   "metadata": {},
   "source": [
    "k-anonymity involves grouping data with similar characteristics or brackets to make it difficult to single out individuals. "
   ]
  },
  {
   "cell_type": "markdown",
   "metadata": {},
   "source": [
    "### 11. What is the main concern about conflicts of interest in public health research?"
   ]
  },
  {
   "cell_type": "markdown",
   "metadata": {},
   "source": [
    "The main concern is that conflicts of interests may threaten the integrity of public health research, which can result in biases, breaches of trust with research participants and the public, and negative implications on populations studied in research. "
   ]
  },
  {
   "cell_type": "markdown",
   "metadata": {},
   "source": [
    "### 12. What is the first step in managing conflicts of interest in public health research?"
   ]
  },
  {
   "cell_type": "markdown",
   "metadata": {},
   "source": [
    "The first step to manage a conflict of interest is to be transparent. Researchers musst publicly disclose potential conflicts of interests that could influence the research project so that others reading the reseearch are able to evaluate the influence of the conflict of interest. "
   ]
  },
  {
   "cell_type": "markdown",
   "metadata": {},
   "source": [
    "### 13. What is the role of independent oversight in managing conflicts of interest in public health research?"
   ]
  },
  {
   "cell_type": "markdown",
   "metadata": {},
   "source": [
    "Independent oversight allows researchers to have a separate committee review aspects of the research process and findings to help manage conflicts of interests."
   ]
  },
  {
   "cell_type": "markdown",
   "metadata": {},
   "source": [
    "### 14. What is one strategy for mitigating conflicts of interest in public health research?"
   ]
  },
  {
   "cell_type": "markdown",
   "metadata": {},
   "source": [
    "One strategy to mitigate conflicts of interest is to disclose to the public, for example in a publication or presentation. This will allow others viewing your work to evaluate potential influence. "
   ]
  },
  {
   "cell_type": "markdown",
   "metadata": {},
   "source": [
    "### 15. What is the potential impact of not properly managing conflicts of interest in public health research?"
   ]
  },
  {
   "cell_type": "markdown",
   "metadata": {},
   "source": [
    "One long-lasting impact of not properly managing conflicts of interest is producing bias into research that can distort findings. The use of these findings can have negative impacts on populations the findings are applied to. "
   ]
  },
  {
   "cell_type": "markdown",
   "metadata": {},
   "source": []
  }
 ],
 "metadata": {
  "kernelspec": {
   "display_name": ".venv",
   "language": "python",
   "name": "python3"
  },
  "language_info": {
   "name": "python",
   "version": "3.13.1"
  }
 },
 "nbformat": 4,
 "nbformat_minor": 2
}
