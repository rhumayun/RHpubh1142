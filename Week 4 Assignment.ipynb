{
 "cells": [
  {
   "cell_type": "markdown",
   "metadata": {},
   "source": [
    "# Week 4 Assignment"
   ]
  },
  {
   "cell_type": "markdown",
   "metadata": {},
   "source": [
    "### 1. What is the difference between a spreadsheet and a database?\n",
    "Spreadsheet software allows for data entry and analyses, including organizing data into rows and columns, calculating simple solutions, and creating charts. A key limitation of spreadsheet software is that it does not have capacity for managing and analyzing large or complex data sets. Databse software addresses these limitations and can store large amounts of data, provide more data integrity control, and offer tools that allow users to explore complex data relationships. "
   ]
  },
  {
   "cell_type": "markdown",
   "metadata": {},
   "source": [
    "### 2. What are the advantages and disadvantages of using a spreadsheet for health data management?"
   ]
  },
  {
   "cell_type": "markdown",
   "metadata": {},
   "source": [
    "advantages: data entry with various formatting abilities (such as changing font size/colors, adding borders, adding conditional formatting); data vizualization and manipulation\n",
    "\n",
    "disadvantages: storage/file formats are often unique to  the spreadsheet software package and not supported by others, for example .xlsx format for Excel and .gsheet format for Google Sheets. Room for human error, poor quality control, and lack of secuirty in terms of who can access it. "
   ]
  },
  {
   "cell_type": "markdown",
   "metadata": {},
   "source": [
    "### 3. What are the advantages and disadvantages of using a database for health data management?"
   ]
  },
  {
   "cell_type": "markdown",
   "metadata": {},
   "source": [
    "advantages: database normalization to keep database efficient and flexible; can manage more complex structures and manipulate larger datasets (high scalability), have more advanced security measures, and provide multi-user accessibility. \n",
    "\n",
    "disadvantages: very high costs, lack of centralization of systems, increased workload for medical organizations, technical problems especially if there is no backup system established for a database system. "
   ]
  },
  {
   "cell_type": "markdown",
   "metadata": {},
   "source": [
    "### 4. What are some examples of tasks that can be performed using a spreadsheet?\n"
   ]
  },
  {
   "cell_type": "markdown",
   "metadata": {},
   "source": [
    "simple calculations, data organization, data visualization, basic analysis, etc."
   ]
  },
  {
   "cell_type": "markdown",
   "metadata": {},
   "source": [
    "### 5. What are some examples of tasks that can be performed using a database?"
   ]
  },
  {
   "cell_type": "markdown",
   "metadata": {},
   "source": [
    "find rleationships between data; sophisticated querying, reporting, and analysis; data normalization; data encryption; etc. "
   ]
  },
  {
   "cell_type": "markdown",
   "metadata": {},
   "source": [
    "### 6. What are some examples of tasks that can be performed using both a spreadsheet and a database?"
   ]
  },
  {
   "cell_type": "markdown",
   "metadata": {},
   "source": [
    "- data storage and organization\n",
    "- data manipulation (either simple or more complicated)\n",
    "- data visualization \n",
    "- data analysis\n",
    "- data imports/exports"
   ]
  },
  {
   "cell_type": "markdown",
   "metadata": {},
   "source": [
    "### 7. What are some examples of tasks that can be performed using neither a spreadsheet nor a database?"
   ]
  },
  {
   "cell_type": "code",
   "execution_count": null,
   "metadata": {
    "vscode": {
     "languageId": "markdown"
    }
   },
   "outputs": [],
   "source": [
    "\n",
    "- Real-time collaboration on projects (software development, multimedia production)\n",
    "- Advanced machine learning model training and deployment\n",
    "- Real-time video and audio processing\n",
    "- Complex simulations and modeling (e.g., weather forecasting, scientific research)\n",
    "- Interactive gaming and virtual reality experiences\n",
    "\n",
    "(Answer generated using Github Copilot)"
   ]
  },
  {
   "cell_type": "markdown",
   "metadata": {},
   "source": [
    "### 8. What are some examples of tasks that can be performed using a spreadsheet but not a database?"
   ]
  },
  {
   "cell_type": "markdown",
   "metadata": {},
   "source": [
    "One key feature of spreadsheets that aren't applicable to databases is that spreadsheets allow for various types of values in cells while databases can only store raw data that has a pre-set type. Similar to this, while you can add various styles of formatting to spreadsheets (borders, colors, fonts, etc.), you cannot do this in a database."
   ]
  },
  {
   "cell_type": "markdown",
   "metadata": {},
   "source": [
    "### 9. What are some examples of tasks that can be performed using a database but not a spreadsheet?"
   ]
  },
  {
   "cell_type": "markdown",
   "metadata": {},
   "source": [
    "Databases can store larger volumes of data and perform more unique querying, data analysis, and sorting compared to spreadsheets. When adding data into a database, there are pre-set guides that allow you to organize your data better and reduce room for human error. Overall, between databases and spreadsheets, databases have a highly flexible structure that allow you to perform more functions with your data. "
   ]
  },
  {
   "cell_type": "markdown",
   "metadata": {},
   "source": [
    "### 10. What are some examples of tasks that can be performed using both a spreadsheet and a database?"
   ]
  },
  {
   "cell_type": "code",
   "execution_count": null,
   "metadata": {
    "vscode": {
     "languageId": "markdown"
    }
   },
   "outputs": [],
   "source": [
    "- Data storage and organization\n",
    "- Data manipulation (either simple or more complicated)\n",
    "- Data visualization \n",
    "- Data analysis\n",
    "- Data imports/exports"
   ]
  }
 ],
 "metadata": {
  "language_info": {
   "name": "python"
  }
 },
 "nbformat": 4,
 "nbformat_minor": 2
}
